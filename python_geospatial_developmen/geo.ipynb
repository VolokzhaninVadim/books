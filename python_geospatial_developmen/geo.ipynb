{
 "cells": [
  {
   "attachments": {},
   "cell_type": "markdown",
   "metadata": {},
   "source": [
    "**Author:** Volokzhanin Vadim<br>\n",
    "**Date create:** 17.02.2023<br>\n",
    "**Repository:** https://github.com/VolokzhaninVadim/books/tree/master/python_geospatial_developmen<br>\n",
    "**Task description:** Получить данные о населении в г. Москва и показать типовые операции в Postgres<br>"
   ]
  },
  {
   "attachments": {},
   "cell_type": "markdown",
   "metadata": {},
   "source": [
    "[Образ для работы](https://github.com/VolokzhaninVadim/jupyterlab)\n",
    "\n",
    "Перевести на английский!!!"
   ]
  },
  {
   "cell_type": "markdown",
   "metadata": {},
   "source": [
    "# Схема работы "
   ]
  },
  {
   "cell_type": "code",
   "execution_count": 9,
   "metadata": {},
   "outputs": [],
   "source": [
    "# Создаем диаграмму\n",
    "from diagrams import Diagram\n",
    "from diagrams.programming.language import Python\n",
    "from diagrams.onprem.database import Postgresql\n",
    "\n",
    "with Diagram(\"Процесс работы с данными\", filename='./img/data_process', show=False, direction=\"TB\"):\n",
    "    Python(\"Получение домов\") >> Python(\"Геокодирование домов\") >> Python(\"Получение полигона\") \\\n",
    "    >> Postgresql(\"Анализ данных\")"
   ]
  },
  {
   "attachments": {},
   "cell_type": "markdown",
   "metadata": {},
   "source": [
    "![](./img/data_process.png)"
   ]
  },
  {
   "cell_type": "code",
   "execution_count": null,
   "metadata": {},
   "outputs": [],
   "source": [
    "# Схема с отправкой запросов"
   ]
  },
  {
   "attachments": {},
   "cell_type": "markdown",
   "metadata": {},
   "source": [
    "# Создаем объекты базы данных\n",
    "\n",
    "[Установка базы данных: Postgres + PostGIS](https://github.com/VolokzhaninVadim/postgres)"
   ]
  },
  {
   "cell_type": "code",
   "execution_count": 3,
   "metadata": {},
   "outputs": [
    {
     "data": {
      "image/png": "[encoded data removed]",
      "text/plain": [
       "<IPython.core.display.Image object>"
      ]
     },
     "metadata": {},
     "output_type": "display_data"
    }
   ],
   "source": [
    "# Отображаем схему данных\n",
    "from src.database import metadata\n",
    "from sqlalchemy_schemadisplay import create_schema_graph\n",
    "from IPython.display import Image, display\n",
    "\n",
    "graph = create_schema_graph(metadata=metadata,\n",
    "   show_datatypes=True, \n",
    "   concentrate=True \n",
    ")\n",
    "plt = Image(graph.create_png())\n",
    "display(plt)"
   ]
  },
  {
   "cell_type": "code",
   "execution_count": 1,
   "metadata": {},
   "outputs": [],
   "source": [
    "# Создаем объекты базы данных\n",
    "from src.database import Database \n",
    "database = Database()\n",
    "from src.database import table_house, table_address, table_polygon\n",
    "\n",
    "table_house.create(bind=database.engine, checkfirst=True)\n",
    "table_address.create(bind=database.engine, checkfirst=True)\n",
    "table_polygon.create(bind=database.engine, checkfirst=True)"
   ]
  },
  {
   "attachments": {},
   "cell_type": "markdown",
   "metadata": {},
   "source": [
    "# Проверяем смену IP"
   ]
  },
  {
   "cell_type": "code",
   "execution_count": 9,
   "metadata": {},
   "outputs": [
    {
     "data": {
      "text/plain": [
       "{'ip': '109.70.100.30'}"
      ]
     },
     "execution_count": 9,
     "metadata": {},
     "output_type": "execute_result"
    }
   ],
   "source": [
    "# Проверяем смену IP\n",
    "from src.scraper import Scraper\n",
    "scraper = Scraper()\n",
    "current_ip = scraper.check_ip(scraper.change_session_ip())\n",
    "current_ip"
   ]
  },
  {
   "attachments": {},
   "cell_type": "markdown",
   "metadata": {},
   "source": [
    "# Получаем дома с квартирами города Москвы"
   ]
  },
  {
   "attachments": {},
   "cell_type": "markdown",
   "metadata": {},
   "source": [
    "<iframe\n",
    "  src=\"https://www.reformagkh.ru/\"\n",
    "  width=\"100%\"\n",
    "  height=\"500px\"\n",
    ">\n",
    "</iframe>"
   ]
  },
  {
   "cell_type": "code",
   "execution_count": 1,
   "metadata": {},
   "outputs": [],
   "source": [
    "# Получаем дома с квартирами и записываем их в базу данных \n",
    "from src.scraper import Scraper\n",
    "scraper = Scraper()\n",
    "scraper.insert_house_df()"
   ]
  },
  {
   "attachments": {},
   "cell_type": "markdown",
   "metadata": {},
   "source": [
    "# Получаем координаты адресов домов Московской области"
   ]
  },
  {
   "cell_type": "markdown",
   "metadata": {},
   "source": [
    "<iframe\n",
    "  src=\"https://yandex.ru/maps/213/moscow/?ll=37.617700%2C55.755863&z=10\"\n",
    "  width=\"100%\"\n",
    "  height=\"500px\"\n",
    ">\n",
    "</iframe>"
   ]
  },
  {
   "cell_type": "code",
   "execution_count": 1,
   "metadata": {},
   "outputs": [
    {
     "data": {
      "text/html": [
       "<div>\n",
       "<style scoped>\n",
       "    .dataframe tbody tr th:only-of-type {\n",
       "        vertical-align: middle;\n",
       "    }\n",
       "\n",
       "    .dataframe tbody tr th {\n",
       "        vertical-align: top;\n",
       "    }\n",
       "\n",
       "    .dataframe thead th {\n",
       "        text-align: right;\n",
       "    }\n",
       "</style>\n",
       "<table border=\"1\" class=\"dataframe\">\n",
       "  <thead>\n",
       "    <tr style=\"text-align: right;\">\n",
       "      <th></th>\n",
       "      <th>houseguid</th>\n",
       "      <th>address</th>\n",
       "      <th>living_rooms_amount</th>\n",
       "    </tr>\n",
       "  </thead>\n",
       "  <tbody>\n",
       "    <tr>\n",
       "      <th>3066</th>\n",
       "      <td>7dcee7cd-3687-4b5a-96c8-b269b91b9ee2</td>\n",
       "      <td>Шаболовка ул. 59 к.1</td>\n",
       "      <td>56</td>\n",
       "    </tr>\n",
       "    <tr>\n",
       "      <th>3067</th>\n",
       "      <td>0969a805-3aab-4e67-9152-9f0fcfa0ef58</td>\n",
       "      <td>Шаболовка ул. 59 к.2</td>\n",
       "      <td>60</td>\n",
       "    </tr>\n",
       "    <tr>\n",
       "      <th>3068</th>\n",
       "      <td>90dd2a8b-c729-4c5d-871d-1d7ca1d13de8</td>\n",
       "      <td>Шаболовка ул. 63 к.1</td>\n",
       "      <td>64</td>\n",
       "    </tr>\n",
       "    <tr>\n",
       "      <th>3069</th>\n",
       "      <td>16a5ae72-b1b9-47a6-a9db-cb2d46b19ad9</td>\n",
       "      <td>Шаболовка ул. 63 к.2</td>\n",
       "      <td>24</td>\n",
       "    </tr>\n",
       "    <tr>\n",
       "      <th>3070</th>\n",
       "      <td>d1c31c1d-6f33-48e5-8652-28b041a74ca4</td>\n",
       "      <td>Шаболовка ул. 65 к.1</td>\n",
       "      <td>64</td>\n",
       "    </tr>\n",
       "  </tbody>\n",
       "</table>\n",
       "</div>"
      ],
      "text/plain": [
       "                                 houseguid               address  \\\n",
       "3066  7dcee7cd-3687-4b5a-96c8-b269b91b9ee2  Шаболовка ул. 59 к.1   \n",
       "3067  0969a805-3aab-4e67-9152-9f0fcfa0ef58  Шаболовка ул. 59 к.2   \n",
       "3068  90dd2a8b-c729-4c5d-871d-1d7ca1d13de8  Шаболовка ул. 63 к.1   \n",
       "3069  16a5ae72-b1b9-47a6-a9db-cb2d46b19ad9  Шаболовка ул. 63 к.2   \n",
       "3070  d1c31c1d-6f33-48e5-8652-28b041a74ca4  Шаболовка ул. 65 к.1   \n",
       "\n",
       "      living_rooms_amount  \n",
       "3066                   56  \n",
       "3067                   60  \n",
       "3068                   64  \n",
       "3069                   24  \n",
       "3070                   64  "
      ]
     },
     "execution_count": 1,
     "metadata": {},
     "output_type": "execute_result"
    }
   ],
   "source": [
    "# Получаем дома из базы данных\n",
    "from src.database import Database \n",
    "database = Database()\n",
    "df = database.get_house_df()\n",
    "df[df['address'].str.contains('Шаболовка')].head()"
   ]
  },
  {
   "cell_type": "code",
   "execution_count": 2,
   "metadata": {},
   "outputs": [
    {
     "data": {
      "text/plain": [
       "[55.692069, 37.574606]"
      ]
     },
     "execution_count": 2,
     "metadata": {},
     "output_type": "execute_result"
    }
   ],
   "source": [
    "# Проверяем работу\n",
    "from src.scraper import Scraper\n",
    "sraper = Scraper()\n",
    "text = '60-летия Октября просп. 12'\n",
    "prepare_text = sraper.prepare_text(text)\n",
    "sraper.yandex_geocoder(prepare_text)"
   ]
  },
  {
   "cell_type": "code",
   "execution_count": 4,
   "metadata": {},
   "outputs": [
    {
     "name": "stderr",
     "output_type": "stream",
     "text": [
      "  5%|▌         | 1340/24568 [3:04:51<44:19:34,  6.87s/it]   "
     ]
    }
   ],
   "source": [
    "# Вставляем данные\n",
    "from src.scraper import Scraper\n",
    "scraper = Scraper()\n",
    "scraper.insert_table_address_from_df()"
   ]
  },
  {
   "cell_type": "code",
   "execution_count": null,
   "metadata": {},
   "outputs": [],
   "source": [
    "# Очистить координаты не из Москвы, передавать адрес: Россия, Москва, *"
   ]
  },
  {
   "attachments": {},
   "cell_type": "markdown",
   "metadata": {},
   "source": [
    "# Получаем полигон \"Москва, Южный административный округ\""
   ]
  },
  {
   "cell_type": "markdown",
   "metadata": {},
   "source": [
    "<iframe\n",
    "  src=\"https://nominatim.openstreetmap.org/ui/search.html\"\n",
    "  width=\"100%\"\n",
    "  height=\"500px\"\n",
    ">\n",
    "</iframe>"
   ]
  },
  {
   "cell_type": "code",
   "execution_count": 1,
   "metadata": {},
   "outputs": [],
   "source": [
    "# Сохраняем полигон\n",
    "from src.scraper import Scraper\n",
    "scraper = Scraper()\n",
    "scraper.insert_table_polygon()"
   ]
  },
  {
   "attachments": {},
   "cell_type": "markdown",
   "metadata": {},
   "source": [
    "# База данных\n",
    "Показать примеры. \n",
    "Описать код. "
   ]
  },
  {
   "attachments": {},
   "cell_type": "markdown",
   "metadata": {},
   "source": [
    "# Дополнительный материал\n",
    "1. [Разработка геоприложений на языке Python](https://www.ozon.ru/product/razrabotka-geoprilozheniy-na-yazyke-python-217051313) - знания о геоприложения. \n",
    "1. [Современный скрапинг веб-сайтов с помощью Python. 2-е межд. издание](https://www.ozon.ru/product/sovremennyy-skraping-veb-saytov-s-pomoshchyu-python-pdf-epub-mitchell-rayan-254474872) - знания о возможностях скрапинга сайтов. \n",
    "1. [Изучаем PostgreSQL 10](https://www.ozon.ru/product/izuchaem-postgresql-10-salahaldin-dzhuba-volkov-andrey-217051141) - знания о Postgres. \n",
    "1. [Использование Docker](https://www.ozon.ru/product/ispolzovanie-docker-mouet-edrien-217051397) - знания о Docker. \n",
    "1. [OSINT](https://adeo.workplace.com/groups/437833833524196/permalink/1064658360841737/) - знания об OSINT. "
   ]
  },
  {
   "cell_type": "markdown",
   "metadata": {},
   "source": []
  }
 ],
 "metadata": {
  "kernelspec": {
   "display_name": "Python 3",
   "language": "python",
   "name": "python3"
  },
  "language_info": {
   "codemirror_mode": {
    "name": "ipython",
    "version": 3
   },
   "file_extension": ".py",
   "mimetype": "text/x-python",
   "name": "python",
   "nbconvert_exporter": "python",
   "pygments_lexer": "ipython3",
   "version": "3.8.12"
  },
  "orig_nbformat": 4,
  "vscode": {
   "interpreter": {
    "hash": "949777d72b0d2535278d3dc13498b2535136f6dfe0678499012e853ee9abcab1"
   }
  }
 },
 "nbformat": 4,
 "nbformat_minor": 2
}
